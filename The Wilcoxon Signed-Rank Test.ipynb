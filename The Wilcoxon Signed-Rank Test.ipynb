{
 "cells": [
  {
   "cell_type": "code",
   "execution_count": 1,
   "metadata": {},
   "outputs": [
    {
     "data": {
      "text/html": [
       "\n",
       "<style>\n",
       "div.text_cell_render { /* Customize text cells */\n",
       "font-family: 'Times New Roman';\n",
       "font-size:1.3em;\n",
       "line-height:1.4em;\n",
       "padding-left:1.5em;\n",
       "padding-right:1.5em;\n",
       "}\n",
       "</style>\n"
      ],
      "text/plain": [
       "<IPython.core.display.HTML object>"
      ]
     },
     "execution_count": 1,
     "metadata": {},
     "output_type": "execute_result"
    }
   ],
   "source": [
    "from IPython.core.display import HTML\n",
    "HTML(\"\"\"\n",
    "<style>\n",
    "div.text_cell_render { /* Customize text cells */\n",
    "font-family: 'Times New Roman';\n",
    "font-size:1.3em;\n",
    "line-height:1.4em;\n",
    "padding-left:1.5em;\n",
    "padding-right:1.5em;\n",
    "}\n",
    "</style>\n",
    "\"\"\")"
   ]
  },
  {
   "cell_type": "markdown",
   "metadata": {},
   "source": [
    "<h1><center>The Wilcoxon Signed-Rank Test</center></h1>"
   ]
  },
  {
   "cell_type": "markdown",
   "metadata": {},
   "source": [
    "The <b>Wilcoxon Signed-Rank Test</b> is a distribution free test or non-parametric test which is used to test the population mean when the samples do not come from any specific distribution. The idea behind The Wilcoxon Signed-Rank Test is to median-center the samples and give signed-ranks to the individual values. If the sum of the negative ranks (S-) is larger, we can conclude that the population mean is lesser than the mentioned value. If the sum of the positive ranks(S+) is larger, the population mean is greater than the mentioned value.\n",
    "\n",
    "If the sample size is larger, the test statistic S+ is approximately normally distributed with mean $n(n+1)/4$ and variance $n(n+1)(2n+1)/4$. In this case, the Wilcoxon signed-rank test can be performed by computing the <b>z-score</b> of S+ and then the normal table can be used to find the <b>p-value</b>. The z-score is:\n",
    "\n",
    "$$z = \\frac{(S+) - n(n+1)/4}{\\sqrt{n(n+1)(2n+1)/24}}$$\n",
    "\n",
    "Let us look at the derivation for the distribution parameters."
   ]
  },
  {
   "cell_type": "markdown",
   "metadata": {},
   "source": [
    "#### Derivation of distribution mean :\n",
    "\n",
    "The statistic used in the Wilcoxon Signed-Rank Test(let us say it $W$ which is S+) can be denoted as:\n",
    "\n",
    "$$W = \\sum_{i=1}^{n} I_{i}R_{i}$$\n",
    "\n",
    "where $I_i$ is the indicator variable defined as 0 when $x_i - y_i$ is negative and 1 otherwise and $R_i$ is their ranks. When the sample size is $n$, the distribution of the sum of positive ranks is also equivalent to distribute the ranks from $1$ to $n$ randomly into two subsets, one denoting the positive ranks and other the negative ranks. Hence, this can be denoted as:\n",
    "\n",
    "$$U = \\sum_{i=1}^{n} U_{i}$$\n",
    "\n",
    "where $U_{i}=i$, when the rank belongs to the positive ranks and $U_{i}=0$ otherwise (when the rank belongs to the negative ranks). As these two distributions are similar:\n",
    "\n",
    "$$E(W) = E(U)$$\n",
    "\n",
    "Now, as we are randomly distributing the ranks amongst the positive and negative ranks, the probability of each of the rank being negative or positive will be same and will be equal to $1/2$, i.e.\n",
    "\n",
    "$$P(U_i = 0) = P(U_i = i) = 0.5$$\n",
    "\n",
    "The expected value of $U$ can be calculated as:\n",
    "\n",
    "$$E(U) = \\sum_{i=1}^{n} E(U_i) = \\sum_{i=1}^{n} \\big[\\frac{1}{2}0 + \\frac{1}{2}i \\big] = \\frac{1}{2} \\sum_{i=1}^{n} i = \\frac{n(n+1)}{4}$$\n",
    "\n",
    "Hence,\n",
    "\n",
    "$$E(W) = E(U) = \\frac{n(n+1)}{4}$$"
   ]
  },
  {
   "cell_type": "markdown",
   "metadata": {},
   "source": [
    "#### Derivation of distribution variance :\n",
    "\n",
    "For the calculation of variance, we need to calculate the individual variances of each of the $U_i$s and sum them all. As, $Var(X) = E[X^2] - E^{2}[X]$, the variance of $U_i$ can be given as:\n",
    "\n",
    "$$Var(U_i) = E[U_{i}^2] - E^{2}[U_i]$$\n",
    "\n",
    "Expected value of $U_i$ and $U_i^2$ can be calculated as:\n",
    "\n",
    "$$E[U_i] = 0.\\frac{1}{2} + i.\\frac{1}{2} = \\frac{i}{2}$$\n",
    "\n",
    "$$E[U_i^2] = 0^2.\\frac{1}{2} + i^2.\\frac{1}{2} = \\frac{i^2}{2}$$\n",
    "\n",
    "Hence, \n",
    "\n",
    "$$Var(U_i) = \\frac{i^2}{2} - \\big(\\frac{i}{2} \\big)^2 = \\frac{i^2}{4}$$\n",
    "\n",
    "The variance of $W$ can be given as:\n",
    "\n",
    "$$Var(W) = Var(U) = \\sum_{i=1}^{n} Var(U_i) = \\sum_{i=1}^{n} \\frac{i^2}{4} = \\frac{n(n+1)(2n+1)}{24}$$"
   ]
  },
  {
   "cell_type": "markdown",
   "metadata": {},
   "source": [
    "##### Reference :\n",
    "\n",
    "https://www.physicsforums.com/threads/expected-value-and-variance-for-wilcoxon-signed-rank-test.775604/"
   ]
  }
 ],
 "metadata": {
  "kernelspec": {
   "display_name": "Python 3",
   "language": "python",
   "name": "python3"
  },
  "language_info": {
   "codemirror_mode": {
    "name": "ipython",
    "version": 3
   },
   "file_extension": ".py",
   "mimetype": "text/x-python",
   "name": "python",
   "nbconvert_exporter": "python",
   "pygments_lexer": "ipython3",
   "version": "3.6.4"
  }
 },
 "nbformat": 4,
 "nbformat_minor": 2
}
