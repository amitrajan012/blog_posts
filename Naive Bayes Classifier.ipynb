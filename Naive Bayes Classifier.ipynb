{
 "cells": [
  {
   "cell_type": "code",
   "execution_count": 2,
   "metadata": {},
   "outputs": [
    {
     "data": {
      "text/html": [
       "\n",
       "<style>\n",
       "div.text_cell_render { /* Customize text cells */\n",
       "font-family: 'Times New Roman';\n",
       "font-size:1.3em;\n",
       "line-height:1.4em;\n",
       "padding-left:1.5em;\n",
       "padding-right:1.5em;\n",
       "}\n",
       "</style>\n"
      ],
      "text/plain": [
       "<IPython.core.display.HTML object>"
      ]
     },
     "execution_count": 2,
     "metadata": {},
     "output_type": "execute_result"
    }
   ],
   "source": [
    "from IPython.core.display import HTML\n",
    "HTML(\"\"\"\n",
    "<style>\n",
    "div.text_cell_render { /* Customize text cells */\n",
    "font-family: 'Times New Roman';\n",
    "font-size:1.3em;\n",
    "line-height:1.4em;\n",
    "padding-left:1.5em;\n",
    "padding-right:1.5em;\n",
    "}\n",
    "</style>\n",
    "\"\"\")"
   ]
  },
  {
   "cell_type": "markdown",
   "metadata": {},
   "source": [
    "<h1><center>Naive Bayes Classifier</center></h1>"
   ]
  },
  {
   "cell_type": "markdown",
   "metadata": {},
   "source": [
    "### Introduction :\n",
    "\n",
    "Naive Bayes is an extremely fast classification algorithm which uses Bayes Theorem as its basic building block. It assumes that the features or predictors in the dataset are <b>independent</b>.\n",
    "\n",
    "The Bayes theorem is given as:\n",
    "\n",
    "$$P(c|X) = \\frac{P(c)P(X|c)}{P(X)}$$\n",
    "\n",
    "where $c$ denotes a class label and $X$ is the predictor. The probabilities $P(c)$ and $P(X)$ are the <b>prior probabilities</b> of the class and the predictor. $P(X|c)$ is the prior probability or <b>likelihood</b> of observing a feature $X$ given class $c$. $P(c|X)$ is the <b>posterior probability</b> of the class $c$ given a feature $X$. Hence, the posterior probability of a class $c$ givena a feature $X$ can be found using different prior probabilities and likelihood which can be obtained from the existing dataset. In the plain english, the Bayes theorem can be stated as:\n",
    "\n",
    "$$posterior = \\frac{prior \\times likelihood}{evidence}$$\n",
    "\n",
    "For picking up the most probable class based of different posterior probabilities, we can simply use a <b>decision rule</b> that picks up the class or hypothesis which is <b>most probable</b>. This is known as <b> maximum a posteriori</b> or <b>MAP decision rule</b>."
   ]
  },
  {
   "cell_type": "markdown",
   "metadata": {},
   "source": [
    "### Example :\n",
    "\n",
    "Let us look at an example. Given a dataset having the weather conditions and whether the players will play the golf or not based on these conditions, our task is to <b>predict</b> or <b>classify</b> that whether a player will play or not in a particular weather. The dataset is shown below.\n",
    "\n",
    "<img src=\"images/Table 1.PNG\"  width=\"200px\">\n",
    "\n",
    "As explained, it consists of the information that whether a player plays golf or not depending on the weather condition. A frequecy table, which can be further used to obtain <b>prior proababilities</b> and <b>likelihood</b> is shown below.\n",
    "\n",
    "<img src=\"images/Table 2.PNG\"  width=\"400px\">"
   ]
  },
  {
   "cell_type": "markdown",
   "metadata": {},
   "source": [
    "Let us ask ourselves a simple question: <b>\"Whether a player will play or not in a Sunny weather?\"</b>. First of all we need to calculate the prior probabilities. The prior probabilities of classes and features are given as: $P(YES) = \\frac{10}{15} = \\frac{2}{3}$, $P(NO) = \\frac{5}{15} = \\frac{1}{3}$, $P(Sunny) = \\frac{6}{15} = \\frac{2}{5}$, $P(Rainy) = \\frac{5}{15} = \\frac{1}{3}$ and $P(Overcast) = \\frac{4}{15}$. Now, we need to evaluate $P(YES|Sunny)$. For this, we have to find the <b>likelihood</b> $P(Sunny | YES)$ which is equal to $\\frac{4}{10} = \\frac{2}{5}$. Hence, the <b>posterior probability</b> can be evaluated as:\n",
    "\n",
    "$$P(YES | Sunny) = \\frac{P(YES)P(Sunny | YES)}{P(Sunny)} = \\frac{\\frac{2}{3} \\times \\frac{2}{5}}{\\frac{2}{5}} = \\frac{2}{3}$$\n",
    "\n",
    "As there are only two probable classes, we can say that $P(NO | Sunny) = 1 - P(YES | Sunny) = \\frac{1}{3}$. Hence the <b>odds</b> of a player playing golf on a suuny day is $\\frac{\\frac{2}{3}}{\\frac{1}{3}} = 2$."
   ]
  },
  {
   "cell_type": "markdown",
   "metadata": {},
   "source": [
    "### Advantage, Disadvantage and other concerns :\n",
    "\n",
    "Naive Bayes is a powerful and easy to implement classifier. One major advantage of Naive Bayes is that it only requires a small number of training data to estimate the parameters necessary for classification. It also has an advantage of performing well in the case of multi-class classifier. If the assumption of independece holds, it can outperform various other classification algorithm such as logistic regression and LDA. \n",
    "\n",
    "As we need to know the prior probabilities (distribution) and likelihoods in order to obtain the classification results, in the case of numeric features, we need to guess its prior distribution. One common way to implement the Naive Bayes in the case of numeric variables is to assume the prior distribution as <b>Gaussian</b>. Sometimes this assumption can be a bit too strong and hence Naive Bayes' performance is comparatively better when the features are <b>categorical</b>.\n",
    "\n",
    "Naive Bayes often suffers from the problem of <b>missing category</b>. When a feature has a category in the test data which is missing in the training set, the model makes a probability estimate of 0 and hence the classification algorithm will fail. This problem can be overcomed by incorporating a small-sample correction called <b>pseudocount</b> in all probability estimates and hence making them non-zeor. This way of <b>regularizing</b> naive Bayes is called as <b>Laplace smoothing</b> when the pseudocount is 1."
   ]
  },
  {
   "cell_type": "markdown",
   "metadata": {},
   "source": [
    "### Naive Bayes for quantitative variable :\n",
    "\n",
    "When dealing with continuous variable, one approach is to <b>discretize</b> the features by a simple process of <b>binning</b>. Another approach is to make an assumption that the continuous value associated with each class follows a <b>Gaussian distribution</b>. For this, we need to estimate the parameters $\\mu_k$ and $\\sigma_k^2$ (mean and variance) of every feature for each of the associated class labels. Then, the <b>probability distribution</b> or <b>likelihood</b> of a feature having a particular value can be calculated by plugging the value in the equation of a <b>Normal distribution</b> having parameters $\\mu_k$ and $\\sigma_k^2$."
   ]
  },
  {
   "cell_type": "markdown",
   "metadata": {},
   "source": [
    "#### Reference :\n",
    "\n",
    "https://en.wikipedia.org/wiki/Naive_Bayes_classifier\n",
    "\n",
    "https://www.analyticsvidhya.com/blog/2017/09/naive-bayes-explained/"
   ]
  },
  {
   "cell_type": "code",
   "execution_count": null,
   "metadata": {},
   "outputs": [],
   "source": []
  }
 ],
 "metadata": {
  "kernelspec": {
   "display_name": "Python 3",
   "language": "python",
   "name": "python3"
  },
  "language_info": {
   "codemirror_mode": {
    "name": "ipython",
    "version": 3
   },
   "file_extension": ".py",
   "mimetype": "text/x-python",
   "name": "python",
   "nbconvert_exporter": "python",
   "pygments_lexer": "ipython3",
   "version": "3.6.4"
  }
 },
 "nbformat": 4,
 "nbformat_minor": 2
}
