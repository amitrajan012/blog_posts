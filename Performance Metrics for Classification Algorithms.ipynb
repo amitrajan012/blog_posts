{
 "cells": [
  {
   "cell_type": "code",
   "execution_count": 2,
   "metadata": {},
   "outputs": [
    {
     "data": {
      "text/html": [
       "\n",
       "<style>\n",
       "div.text_cell_render { /* Customize text cells */\n",
       "font-family: 'Times New Roman';\n",
       "font-size:1.3em;\n",
       "line-height:1.4em;\n",
       "padding-left:1.5em;\n",
       "padding-right:1.5em;\n",
       "}\n",
       "</style>\n"
      ],
      "text/plain": [
       "<IPython.core.display.HTML object>"
      ]
     },
     "execution_count": 2,
     "metadata": {},
     "output_type": "execute_result"
    }
   ],
   "source": [
    "from IPython.core.display import HTML\n",
    "HTML(\"\"\"\n",
    "<style>\n",
    "div.text_cell_render { /* Customize text cells */\n",
    "font-family: 'Times New Roman';\n",
    "font-size:1.3em;\n",
    "line-height:1.4em;\n",
    "padding-left:1.5em;\n",
    "padding-right:1.5em;\n",
    "}\n",
    "</style>\n",
    "\"\"\")"
   ]
  },
  {
   "cell_type": "markdown",
   "metadata": {},
   "source": [
    "<h1><center>Performance Metrics for Classification Algorithms</center></h1>"
   ]
  },
  {
   "cell_type": "markdown",
   "metadata": {},
   "source": [
    "There are several metrics that can be used to measure the performance of a classification algorithm. The choice for the same depends on the problem statement and serves an important role in model selection. \n",
    "\n",
    "### Confusion Matrix :\n",
    "\n",
    "<b>Confusion matrix</b> is one of the easiest and the most intutive way to find the correctness and accuracy of the model. It serves as the building block for all the other performance measures. A sample confusion matrix is shown below: \n",
    "\n",
    "<img src=\"images/cm.PNG\"  width=\"400px\">\n",
    "\n",
    "<b>True Positive (TP)</b> is the cell which has both the actual and predicted classes as <b>True</b>. <b>False Positive (FP)</b> is the cell for which the actual class label is <b>False</b> but the predicted class label is <b>True</b>. <b>True Negative (TN)</b> is the cell for which both the actual and predicted class labels are <b>False</b>. <b>False Negative (FN)</b> is the cell for which the actual class label is <b>True</b> but the predicted class label is <b>False</b>. In the above confusion matrix, <b>TP = 100, FP = 10, TN = 50, FN = 5</b>. \n",
    "\n",
    "All these quantities have different and important effects when it comes to the problem statement. For example, in the case of a model which detects the cancerous cell, we need to minimize the False Negative as miss classifying a cancerous tumor as non-cancerous will have a significant impact. In the case of the model which identifies spam emails, we need to minimize False Positive rate, as they will lead to the classification of important emails as spams."
   ]
  },
  {
   "cell_type": "markdown",
   "metadata": {},
   "source": [
    "### Accuracy :\n",
    "\n",
    "Accuracy of a classification model is given as:\n",
    "\n",
    "$$Accuracy = \\frac{TP+TN}{Number \\ of \\ Observations} = \\frac{TP+TN}{TP+FP+TN+FN}$$\n",
    "\n",
    "Accuracy is a good measure for the fit when the target class labels are balanced. We should refrain ourselves from using accuracy as the measure when the target class labels has a majority of one class."
   ]
  },
  {
   "cell_type": "markdown",
   "metadata": {},
   "source": [
    "### Precision and Recall (Sensitivity) :\n",
    "\n",
    "<b>Precision</b> is the measure which tells us that out of all the observations that are predicted as true, what fraction is actually true. It is given as:\n",
    "\n",
    "$$Precision = \\frac{TP}{TP+FP}$$\n",
    "\n",
    "<b>Recall</b> is a measure that tells us that out of all the actual true class labels, how many are correctly classified by the model. It is given as:\n",
    "\n",
    "$$Recall = \\frac{TP}{TP+FN}$$\n",
    "\n",
    "If we want to minimize FP, we should be maximizing precision and if we want to minimize FN, we should be maximizing recall. Hence, in the case of cancerous cell detection, we have to minimize FN and hence we should maximize recall. For the model that identifies spam emails, our goal is to minimize FP and hence we should maximize precision."
   ]
  },
  {
   "cell_type": "markdown",
   "metadata": {},
   "source": [
    "### Specificity and F1 Score :\n",
    "\n",
    "<b>Specificity</b> measures the classification accuracy for the <b>true negative</b> observations in the data set. It is given as:\n",
    "\n",
    "$$Specificity = \\frac{TN}{TN+FP}$$\n",
    "\n",
    "<b>F1 Score</b> is the <b>harmonic mean</b> of precision and recall.\n",
    "\n",
    "$$F1 \\ Score = \\frac{2 \\times Precision \\times Recall}{Precision + Recall}$$"
   ]
  },
  {
   "cell_type": "markdown",
   "metadata": {},
   "source": [
    "### AUC-ROC Curve :\n",
    "\n",
    "<b>AUC(Area under the Curve)-ROC(Receiver Operating Characteristics) Curve</b> is one of the most important measure of the classification performance. ROC curve is plotted as <b>true positive rate (TPR)</b> against <b>false positive rate (FPR)</b>. TPR is the classification accuracy rate for the true positive observations, which can be given as $\\frac{TP}{TP+FN} = Recall$. FPR is the false positive rate and tells us about the fraction of true negative observations which are falsely classified as positive and is given as $\\frac{FP}{FP+TN} = 1 - Specificity$. An ideal or favorable ROC curve should be hugging the top left corner and should have an area closed to 1 under it. The ROC curve with an area of 0.5 tells that the classifier has no classification power as such."
   ]
  },
  {
   "cell_type": "markdown",
   "metadata": {},
   "source": [
    "### Reference :\n",
    "\n",
    "https://www.dataschool.io/simple-guide-to-confusion-matrix-terminology/\n",
    "\n",
    "https://medium.com/greyatom/performance-metrics-for-classification-problems-in-machine-learning-part-i-b085d432082b\n",
    "\n",
    "https://towardsdatascience.com/understanding-auc-roc-curve-68b2303cc9c5"
   ]
  }
 ],
 "metadata": {
  "kernelspec": {
   "display_name": "Python 3",
   "language": "python",
   "name": "python3"
  },
  "language_info": {
   "codemirror_mode": {
    "name": "ipython",
    "version": 3
   },
   "file_extension": ".py",
   "mimetype": "text/x-python",
   "name": "python",
   "nbconvert_exporter": "python",
   "pygments_lexer": "ipython3",
   "version": "3.6.4"
  }
 },
 "nbformat": 4,
 "nbformat_minor": 2
}
